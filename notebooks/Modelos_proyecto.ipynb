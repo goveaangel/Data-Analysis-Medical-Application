{
 "cells": [
  {
   "cell_type": "code",
   "execution_count": 76,
   "metadata": {
    "id": "rul3skDaW-_4"
   },
   "outputs": [],
   "source": [
    "import numpy as np\n",
    "import pandas as pd\n",
    "import matplotlib.pyplot as plt\n",
    "\n",
    "# Preprocesamiento\n",
    "from sklearn.pipeline import Pipeline\n",
    "from sklearn.model_selection import cross_val_score\n",
    "from sklearn.preprocessing import StandardScaler\n",
    "from sklearn.feature_selection import SelectKBest, f_classif, RFE, SequentialFeatureSelector\n",
    "\n",
    "# Modelos de clasificación\n",
    "from sklearn.svm import SVC\n",
    "from sklearn.neural_network import MLPClassifier\n",
    "from sklearn.ensemble import ExtraTreesClassifier\n",
    "from sklearn.linear_model import LogisticRegression\n",
    "from sklearn.ensemble import RandomForestClassifier, GradientBoostingClassifier\n",
    "from sklearn.naive_bayes import GaussianNB\n",
    "from sklearn.neighbors import KNeighborsClassifier\n",
    "from sklearn.discriminant_analysis import LinearDiscriminantAnalysis\n",
    "\n",
    "# Evaluación y validación\n",
    "from sklearn.model_selection import StratifiedKFold, KFold\n",
    "from sklearn.metrics import accuracy_score, classification_report\n",
    "from sklearn.base import clone"
   ]
  },
  {
   "cell_type": "code",
   "execution_count": 77,
   "metadata": {
    "id": "AufMREM5XSSi"
   },
   "outputs": [],
   "source": [
    "df = pd.read_csv('../data/activity_data_Govea.csv')"
   ]
  },
  {
   "cell_type": "code",
   "execution_count": 78,
   "metadata": {
    "colab": {
     "base_uri": "https://localhost:8080/"
    },
    "id": "uWhZSKPuXWfE",
    "outputId": "5481d621-2f92-4be2-9901-925d78c7422f"
   },
   "outputs": [
    {
     "data": {
      "text/plain": [
       "(600, 74)"
      ]
     },
     "execution_count": 78,
     "metadata": {},
     "output_type": "execute_result"
    }
   ],
   "source": [
    "df.shape"
   ]
  },
  {
   "cell_type": "code",
   "execution_count": 79,
   "metadata": {},
   "outputs": [],
   "source": [
    "df.isna().sum()\n",
    "df.dropna(inplace=True)"
   ]
  },
  {
   "cell_type": "code",
   "execution_count": 80,
   "metadata": {
    "id": "dnYuFACeXYjn"
   },
   "outputs": [],
   "source": [
    "x = df.iloc[:, 1:].values\n",
    "y = df.iloc[:, 0].values.astype(int)"
   ]
  },
  {
   "cell_type": "code",
   "execution_count": null,
   "metadata": {
    "id": "d8OB-nO1XeNC"
   },
   "outputs": [],
   "source": [
    "modelos = {\n",
    "    \"SVM (lineal)\": SVC(kernel='linear'),\n",
    "    \"SVM (RBF)\": SVC(kernel='rbf'),\n",
    "    \"LDA\": LinearDiscriminantAnalysis(),\n",
    "    \"K-NN\": KNeighborsClassifier(n_neighbors=5),\n",
    "    \"MLgP (2 capas)\": MLPClassifier(hidden_layer_sizes=(50, 30), max_iter=5000),\n",
    "    \"Extra Trees\": ExtraTreesClassifier(n_estimators=100),\n",
    "    \"Random Forest\": RandomForestClassifier(n_estimators=100),\n",
    "    \"Logistic Regression\": LogisticRegression(max_iter=1000),\n",
    "    \"Gradient Boosting\": GradientBoostingClassifier(),\n",
    "    \"Naive Bayes\": GaussianNB()\n",
    "}"
   ]
  },
  {
   "cell_type": "code",
   "execution_count": 82,
   "metadata": {
    "id": "VDtiWuYwXg-6"
   },
   "outputs": [],
   "source": [
    "# 5-fold cross-validation\n",
    "n_splits=5\n",
    "kf = StratifiedKFold(n_splits=n_splits, shuffle = True, random_state=42)"
   ]
  },
  {
   "cell_type": "code",
   "execution_count": 83,
   "metadata": {
    "id": "wUjX3n0lZhOh"
   },
   "outputs": [],
   "source": [
    "scaler = StandardScaler()\n",
    "x = scaler.fit_transform(x)"
   ]
  },
  {
   "cell_type": "code",
   "execution_count": 84,
   "metadata": {
    "colab": {
     "base_uri": "https://localhost:8080/"
    },
    "id": "leQVXD65XjKA",
    "outputId": "26e4e0e4-0a80-425d-8df4-6450d936642f"
   },
   "outputs": [
    {
     "name": "stdout",
     "output_type": "stream",
     "text": [
      "\n",
      "=== Modelo: SVM (lineal) ===\n",
      "              precision    recall  f1-score   support\n",
      "\n",
      "           1       1.00      1.00      1.00       100\n",
      "           2       1.00      1.00      1.00       100\n",
      "           3       0.99      1.00      1.00       100\n",
      "           4       1.00      0.97      0.98       100\n",
      "           5       0.94      0.97      0.96       100\n",
      "           6       0.97      0.96      0.96       100\n",
      "\n",
      "    accuracy                           0.98       600\n",
      "   macro avg       0.98      0.98      0.98       600\n",
      "weighted avg       0.98      0.98      0.98       600\n",
      "\n",
      "\n",
      "=== Modelo: SVM (RBF) ===\n",
      "              precision    recall  f1-score   support\n",
      "\n",
      "           1       0.97      0.99      0.98       100\n",
      "           2       1.00      0.97      0.98       100\n",
      "           3       1.00      1.00      1.00       100\n",
      "           4       1.00      0.99      0.99       100\n",
      "           5       0.97      0.94      0.95       100\n",
      "           6       0.95      1.00      0.98       100\n",
      "\n",
      "    accuracy                           0.98       600\n",
      "   macro avg       0.98      0.98      0.98       600\n",
      "weighted avg       0.98      0.98      0.98       600\n",
      "\n",
      "\n",
      "=== Modelo: LDA ===\n",
      "              precision    recall  f1-score   support\n",
      "\n",
      "           1       1.00      0.99      0.99       100\n",
      "           2       1.00      1.00      1.00       100\n",
      "           3       0.99      1.00      1.00       100\n",
      "           4       1.00      0.99      0.99       100\n",
      "           5       0.99      0.94      0.96       100\n",
      "           6       0.94      1.00      0.97       100\n",
      "\n",
      "    accuracy                           0.99       600\n",
      "   macro avg       0.99      0.99      0.99       600\n",
      "weighted avg       0.99      0.99      0.99       600\n",
      "\n",
      "\n",
      "=== Modelo: K-NN ===\n",
      "              precision    recall  f1-score   support\n",
      "\n",
      "           1       0.99      0.99      0.99       100\n",
      "           2       1.00      0.98      0.99       100\n",
      "           3       0.99      1.00      1.00       100\n",
      "           4       1.00      0.99      0.99       100\n",
      "           5       0.98      0.94      0.96       100\n",
      "           6       0.94      1.00      0.97       100\n",
      "\n",
      "    accuracy                           0.98       600\n",
      "   macro avg       0.98      0.98      0.98       600\n",
      "weighted avg       0.98      0.98      0.98       600\n",
      "\n",
      "\n",
      "=== Modelo: MLP (2 capas) ===\n",
      "              precision    recall  f1-score   support\n",
      "\n",
      "           1       1.00      0.99      0.99       100\n",
      "           2       1.00      1.00      1.00       100\n",
      "           3       0.99      1.00      1.00       100\n",
      "           4       1.00      0.97      0.98       100\n",
      "           5       0.96      0.95      0.95       100\n",
      "           6       0.94      0.98      0.96       100\n",
      "\n",
      "    accuracy                           0.98       600\n",
      "   macro avg       0.98      0.98      0.98       600\n",
      "weighted avg       0.98      0.98      0.98       600\n",
      "\n",
      "\n",
      "=== Modelo: Extra Trees ===\n",
      "              precision    recall  f1-score   support\n",
      "\n",
      "           1       0.99      0.99      0.99       100\n",
      "           2       1.00      0.99      0.99       100\n",
      "           3       0.99      1.00      1.00       100\n",
      "           4       0.99      1.00      1.00       100\n",
      "           5       1.00      0.99      0.99       100\n",
      "           6       1.00      1.00      1.00       100\n",
      "\n",
      "    accuracy                           0.99       600\n",
      "   macro avg       1.00      0.99      0.99       600\n",
      "weighted avg       1.00      0.99      0.99       600\n",
      "\n",
      "\n",
      "=== Modelo: Random Forest ===\n",
      "              precision    recall  f1-score   support\n",
      "\n",
      "           1       0.99      0.97      0.98       100\n",
      "           2       1.00      0.99      0.99       100\n",
      "           3       0.98      0.99      0.99       100\n",
      "           4       1.00      1.00      1.00       100\n",
      "           5       0.98      1.00      0.99       100\n",
      "           6       1.00      1.00      1.00       100\n",
      "\n",
      "    accuracy                           0.99       600\n",
      "   macro avg       0.99      0.99      0.99       600\n",
      "weighted avg       0.99      0.99      0.99       600\n",
      "\n",
      "\n",
      "=== Modelo: Logistic Regression ===\n",
      "              precision    recall  f1-score   support\n",
      "\n",
      "           1       1.00      0.98      0.99       100\n",
      "           2       1.00      1.00      1.00       100\n",
      "           3       0.99      1.00      1.00       100\n",
      "           4       1.00      0.96      0.98       100\n",
      "           5       0.94      0.95      0.95       100\n",
      "           6       0.95      0.99      0.97       100\n",
      "\n",
      "    accuracy                           0.98       600\n",
      "   macro avg       0.98      0.98      0.98       600\n",
      "weighted avg       0.98      0.98      0.98       600\n",
      "\n",
      "\n",
      "=== Modelo: Gradient Boosting ===\n",
      "              precision    recall  f1-score   support\n",
      "\n",
      "           1       0.98      0.97      0.97       100\n",
      "           2       0.97      0.97      0.97       100\n",
      "           3       0.94      0.97      0.96       100\n",
      "           4       0.98      0.94      0.96       100\n",
      "           5       0.95      0.98      0.97       100\n",
      "           6       0.99      0.98      0.98       100\n",
      "\n",
      "    accuracy                           0.97       600\n",
      "   macro avg       0.97      0.97      0.97       600\n",
      "weighted avg       0.97      0.97      0.97       600\n",
      "\n",
      "\n",
      "=== Modelo: Naive Bayes ===\n",
      "              precision    recall  f1-score   support\n",
      "\n",
      "           1       0.98      0.99      0.99       100\n",
      "           2       1.00      0.98      0.99       100\n",
      "           3       1.00      1.00      1.00       100\n",
      "           4       1.00      1.00      1.00       100\n",
      "           5       0.98      0.95      0.96       100\n",
      "           6       0.95      0.99      0.97       100\n",
      "\n",
      "    accuracy                           0.98       600\n",
      "   macro avg       0.99      0.98      0.99       600\n",
      "weighted avg       0.99      0.98      0.99       600\n",
      "\n"
     ]
    }
   ],
   "source": [
    "for nombre, modelo in modelos.items():\n",
    "    cv_y_test = []\n",
    "    cv_y_pred = []\n",
    "    for train_index, test_index in kf.split(x, y):\n",
    "# Training phase\n",
    "        x_train = x[train_index, :]\n",
    "        y_train = y[train_index]\n",
    "        clf_i = clone(modelo)\n",
    "        clf_i.fit(x_train, y_train)\n",
    "# Test phase\n",
    "        x_test = x[test_index, :]\n",
    "        y_test = y[test_index]\n",
    "        y_pred = clf_i.predict(x_test)\n",
    "        cv_y_test.append(y_test)\n",
    "        cv_y_pred.append(y_pred)\n",
    "    print(f\"\\n=== Modelo: {nombre} ===\")\n",
    "    print(classification_report(np.concatenate(cv_y_test), np.concatenate(cv_y_pred)))"
   ]
  },
  {
   "cell_type": "markdown",
   "metadata": {
    "id": "VAdZMJtmbxC3"
   },
   "source": [
    "Exactitud es la accuracy, precisión por clase es precision, sensibilidad por clase es recall"
   ]
  },
  {
   "cell_type": "markdown",
   "metadata": {
    "id": "CFGv2B1wc7fa"
   },
   "source": [
    "Se escogió SVC radial y MLP, SVC cuenta con varios hiperparámteros entre los principales está C que controla la penalización por error, un valor más bajo penaliza menos, lo que nos da un modelo más simple con menos sobreajuste, una mayor C nos da un mayor ajuste a los datos.\n",
    "MLP tiene también varios hiperparámteros, entre los principales están *hidden_layer_sizes* que define el número de capas ocultas y de neuronas por capas, *activation* nos da la función de activación que se usará, *solver* nos dice qué algoritmo de optimización se usará, *learning_rate*, la tasa de aprendizaje y *max_iter*, el número máximo de iteraciones para que converja."
   ]
  },
  {
   "cell_type": "code",
   "execution_count": 85,
   "metadata": {
    "colab": {
     "base_uri": "https://localhost:8080/"
    },
    "id": "I7_-bt_9b9s_",
    "outputId": "403ebb70-3990-441a-9d98-3a059d75a526"
   },
   "outputs": [
    {
     "name": "stdout",
     "output_type": "stream",
     "text": [
      "\n",
      "=== Modelo: SVC Radial === con: 0.01 C\n",
      "\n",
      "=== Modelo: SVC Radial === con: 0.1 C\n",
      "\n",
      "=== Modelo: SVC Radial === con: 1 C\n",
      "\n",
      "=== Modelo: SVC Radial === con: 10 C\n",
      "\n",
      "=== Modelo: SVC Radial === con: 100 C\n",
      "\n",
      "=== Modelo: SVC Radial === con: 1000 C\n"
     ]
    }
   ],
   "source": [
    "# =========================\n",
    "# SVM con diferentes valores de C\n",
    "# =========================\n",
    "svm_accuracies = []\n",
    "C_values = [0.01, 0.1, 1, 10, 100, 1000]\n",
    "\n",
    "\n",
    "for C in C_values:\n",
    "    cv_y_test = []\n",
    "    cv_y_pred = []\n",
    "    for train_index, test_index in kf.split(x, y):\n",
    "# Training phase\n",
    "        x_train = x[train_index, :]\n",
    "        y_train = y[train_index]\n",
    "        clf_i = SVC(kernel='rbf', C=C, gamma='scale')\n",
    "        clf_i.fit(x_train, y_train)\n",
    "# Test phase\n",
    "        x_test = x[test_index, :]\n",
    "        y_test = y[test_index]\n",
    "        y_pred = clf_i.predict(x_test)\n",
    "        cv_y_test.append(y_test)\n",
    "        cv_y_pred.append(y_pred)\n",
    "    print(f\"\\n=== Modelo: SVC Radial ===\", f'con: {C} C')\n",
    "    report = classification_report(np.concatenate(cv_y_test), np.concatenate(cv_y_pred), output_dict=True)\n",
    "    accuracy = report['accuracy']\n",
    "    svm_accuracies.append(accuracy)"
   ]
  },
  {
   "cell_type": "code",
   "execution_count": 86,
   "metadata": {
    "colab": {
     "base_uri": "https://localhost:8080/"
    },
    "id": "APWmY7FpfcJa",
    "outputId": "84aaeaec-eb7e-4995-8f50-0d5be1c2eac4"
   },
   "outputs": [
    {
     "name": "stdout",
     "output_type": "stream",
     "text": [
      "\n",
      "=== Modelo: MLPClassifier === con: (10,) de layer_configs\n",
      "\n",
      "=== Modelo: MLPClassifier === con: (50,) de layer_configs\n",
      "\n",
      "=== Modelo: MLPClassifier === con: (50, 30) de layer_configs\n",
      "\n",
      "=== Modelo: MLPClassifier === con: (100, 50) de layer_configs\n",
      "\n",
      "=== Modelo: MLPClassifier === con: (100, 100) de layer_configs\n"
     ]
    }
   ],
   "source": [
    "# =========================\n",
    "# MLP con diferentes tamaños de capas ocultas\n",
    "# =========================\n",
    "mlp_accuracies = []\n",
    "layer_configs = [(10,), (50,), (50, 30), (100, 50), (100, 100)]\n",
    "\n",
    "for config in layer_configs:\n",
    "\n",
    "\n",
    "    cv_y_test = []\n",
    "    cv_y_pred = []\n",
    "    for train_index, test_index in kf.split(x, y):\n",
    "# Training phase\n",
    "        x_train = x[train_index, :]\n",
    "        y_train = y[train_index]\n",
    "        clf_i = MLPClassifier(hidden_layer_sizes=config, max_iter=500, random_state=42)\n",
    "        clf_i.fit(x_train, y_train)\n",
    "# Test phase\n",
    "        x_test = x[test_index, :]\n",
    "        y_test = y[test_index]\n",
    "        y_pred = clf_i.predict(x_test)\n",
    "        cv_y_test.append(y_test)\n",
    "        cv_y_pred.append(y_pred)\n",
    "    print(f\"\\n=== Modelo: MLPClassifier ===\", f'con: {config} de layer_configs')\n",
    "    report = classification_report(np.concatenate(cv_y_test), np.concatenate(cv_y_pred), output_dict=True)\n",
    "    accuracy = report['accuracy']\n",
    "    mlp_accuracies.append(accuracy)"
   ]
  },
  {
   "cell_type": "code",
   "execution_count": 87,
   "metadata": {
    "colab": {
     "base_uri": "https://localhost:8080/",
     "height": 465
    },
    "id": "dnqw6y-gfdp8",
    "outputId": "da64d8c4-60ab-464c-b19c-78d35b832c00"
   },
   "outputs": [
    {
     "data": {
      "image/png": "[encoded data removed]",
      "text/plain": [
       "<Figure size 1200x500 with 2 Axes>"
      ]
     },
     "metadata": {},
     "output_type": "display_data"
    }
   ],
   "source": [
    "# Graficar resultados\n",
    "plt.figure(figsize=(12, 5))\n",
    "\n",
    "# Gráfica para SVM\n",
    "plt.subplot(1, 2, 1)\n",
    "plt.plot(C_values, svm_accuracies, marker='o')\n",
    "plt.xscale('log')\n",
    "plt.title('SVM (RBF) - Rendimiento vs C')\n",
    "plt.xlabel('C (log scale)')\n",
    "plt.ylabel('Accuracy')\n",
    "plt.grid(True)\n",
    "\n",
    "# Gráfica para MLP\n",
    "plt.subplot(1, 2, 2)\n",
    "labels = ['(10,)', '(50,)', '(50,30)', '(100,50)', '(100,100)']\n",
    "plt.plot(labels, mlp_accuracies, marker='o')\n",
    "plt.title('MLP - Rendimiento vs Capas Ocultas')\n",
    "plt.xlabel('Configuración de capas')\n",
    "plt.ylabel('Accuracy')\n",
    "plt.grid(True)\n",
    "\n",
    "plt.tight_layout()\n",
    "plt.show()\n"
   ]
  },
  {
   "cell_type": "code",
   "execution_count": 66,
   "metadata": {
    "colab": {
     "base_uri": "https://localhost:8080/"
    },
    "id": "rQygF5tnkrBK",
    "outputId": "93f6ed3c-c168-4bbc-fa1a-c2da7fb46e07"
   },
   "outputs": [
    {
     "name": "stdout",
     "output_type": "stream",
     "text": [
      "\n",
      "=== Modelo: SVC Radial === con: 5 features\n",
      "\n",
      "=== Modelo: SVC Radial === con: 10 features\n",
      "\n",
      "=== Modelo: SVC Radial === con: 15 features\n",
      "\n",
      "=== Modelo: SVC Radial === con: 20 features\n",
      "\n",
      "=== Modelo: SVC Radial === con: 25 features\n",
      "\n",
      "=== Modelo: SVC Radial === con: 30 features\n",
      "\n",
      "=== Modelo: SVC Radial === con: 35 features\n",
      "\n",
      "=== Modelo: SVC Radial === con: 39 features\n"
     ]
    }
   ],
   "source": [
    "# =========================\n",
    "# SVM con diferentes valores de C y seleccion de caracteristicas\n",
    "# =========================\n",
    "k_values_kbest = [5, 10, 15, 20, 25, 30, 35, 39]\n",
    "svc_kbest_accuracies = []\n",
    "\n",
    "\n",
    "\n",
    "for k in k_values_kbest:\n",
    "\n",
    "\n",
    "    cv_y_test = []\n",
    "    cv_y_pred = []\n",
    "    for train_index, test_index in kf.split(x, y):\n",
    "# Training phase\n",
    "        x_train = x[train_index, :]\n",
    "        y_train = y[train_index]\n",
    "        clf_i = SVC(kernel='rbf', C=100, gamma='scale')\n",
    "        fselection_cv = SelectKBest(score_func=f_classif, k=k)\n",
    "        fselection_cv.fit(x_train, y_train)\n",
    "        x_train = fselection_cv.transform(x_train)\n",
    "        clf_i.fit(x_train, y_train)\n",
    "# Test phase\n",
    "        x_test = fselection_cv.transform(x[test_index, :])\n",
    "        y_test = y[test_index]\n",
    "        y_pred = clf_i.predict(x_test)\n",
    "        cv_y_test.append(y_test)\n",
    "        cv_y_pred.append(y_pred)\n",
    "    print(f\"\\n=== Modelo: SVC Radial ===\", f'con: {k} features')\n",
    "    report = classification_report(np.concatenate(cv_y_test), np.concatenate(cv_y_pred), output_dict=True)\n",
    "    accuracy = report['accuracy']\n",
    "    svc_kbest_accuracies.append(accuracy)"
   ]
  },
  {
   "cell_type": "code",
   "execution_count": 67,
   "metadata": {
    "colab": {
     "base_uri": "https://localhost:8080/"
    },
    "id": "6zc09E_FkvPt",
    "outputId": "bca09d2f-614b-40af-a4ba-2563eef84554"
   },
   "outputs": [
    {
     "name": "stderr",
     "output_type": "stream",
     "text": [
      "/Users/angelgovea/Library/CloudStorage/OneDrive-InstitutoTecnologicoydeEstudiosSuperioresdeMonterrey/4to Semestre/Modelacion del Aprendizaje con Inteligencia Artificial/proyecto1/proyecto1/lib/python3.13/site-packages/sklearn/neural_network/_multilayer_perceptron.py:691: ConvergenceWarning: Stochastic Optimizer: Maximum iterations (500) reached and the optimization hasn't converged yet.\n",
      "  warnings.warn(\n",
      "/Users/angelgovea/Library/CloudStorage/OneDrive-InstitutoTecnologicoydeEstudiosSuperioresdeMonterrey/4to Semestre/Modelacion del Aprendizaje con Inteligencia Artificial/proyecto1/proyecto1/lib/python3.13/site-packages/sklearn/neural_network/_multilayer_perceptron.py:691: ConvergenceWarning: Stochastic Optimizer: Maximum iterations (500) reached and the optimization hasn't converged yet.\n",
      "  warnings.warn(\n",
      "/Users/angelgovea/Library/CloudStorage/OneDrive-InstitutoTecnologicoydeEstudiosSuperioresdeMonterrey/4to Semestre/Modelacion del Aprendizaje con Inteligencia Artificial/proyecto1/proyecto1/lib/python3.13/site-packages/sklearn/neural_network/_multilayer_perceptron.py:691: ConvergenceWarning: Stochastic Optimizer: Maximum iterations (500) reached and the optimization hasn't converged yet.\n",
      "  warnings.warn(\n",
      "/Users/angelgovea/Library/CloudStorage/OneDrive-InstitutoTecnologicoydeEstudiosSuperioresdeMonterrey/4to Semestre/Modelacion del Aprendizaje con Inteligencia Artificial/proyecto1/proyecto1/lib/python3.13/site-packages/sklearn/neural_network/_multilayer_perceptron.py:691: ConvergenceWarning: Stochastic Optimizer: Maximum iterations (500) reached and the optimization hasn't converged yet.\n",
      "  warnings.warn(\n",
      "/Users/angelgovea/Library/CloudStorage/OneDrive-InstitutoTecnologicoydeEstudiosSuperioresdeMonterrey/4to Semestre/Modelacion del Aprendizaje con Inteligencia Artificial/proyecto1/proyecto1/lib/python3.13/site-packages/sklearn/neural_network/_multilayer_perceptron.py:691: ConvergenceWarning: Stochastic Optimizer: Maximum iterations (500) reached and the optimization hasn't converged yet.\n",
      "  warnings.warn(\n",
      "/Users/angelgovea/Library/CloudStorage/OneDrive-InstitutoTecnologicoydeEstudiosSuperioresdeMonterrey/4to Semestre/Modelacion del Aprendizaje con Inteligencia Artificial/proyecto1/proyecto1/lib/python3.13/site-packages/sklearn/neural_network/_multilayer_perceptron.py:691: ConvergenceWarning: Stochastic Optimizer: Maximum iterations (500) reached and the optimization hasn't converged yet.\n",
      "  warnings.warn(\n"
     ]
    },
    {
     "name": "stdout",
     "output_type": "stream",
     "text": [
      "\n",
      "=== Modelo: MLPClassifier === con: 5 de features\n"
     ]
    },
    {
     "name": "stderr",
     "output_type": "stream",
     "text": [
      "/Users/angelgovea/Library/CloudStorage/OneDrive-InstitutoTecnologicoydeEstudiosSuperioresdeMonterrey/4to Semestre/Modelacion del Aprendizaje con Inteligencia Artificial/proyecto1/proyecto1/lib/python3.13/site-packages/sklearn/neural_network/_multilayer_perceptron.py:691: ConvergenceWarning: Stochastic Optimizer: Maximum iterations (500) reached and the optimization hasn't converged yet.\n",
      "  warnings.warn(\n"
     ]
    },
    {
     "name": "stdout",
     "output_type": "stream",
     "text": [
      "\n",
      "=== Modelo: MLPClassifier === con: 10 de features\n"
     ]
    },
    {
     "name": "stderr",
     "output_type": "stream",
     "text": [
      "/Users/angelgovea/Library/CloudStorage/OneDrive-InstitutoTecnologicoydeEstudiosSuperioresdeMonterrey/4to Semestre/Modelacion del Aprendizaje con Inteligencia Artificial/proyecto1/proyecto1/lib/python3.13/site-packages/sklearn/neural_network/_multilayer_perceptron.py:691: ConvergenceWarning: Stochastic Optimizer: Maximum iterations (500) reached and the optimization hasn't converged yet.\n",
      "  warnings.warn(\n",
      "/Users/angelgovea/Library/CloudStorage/OneDrive-InstitutoTecnologicoydeEstudiosSuperioresdeMonterrey/4to Semestre/Modelacion del Aprendizaje con Inteligencia Artificial/proyecto1/proyecto1/lib/python3.13/site-packages/sklearn/neural_network/_multilayer_perceptron.py:691: ConvergenceWarning: Stochastic Optimizer: Maximum iterations (500) reached and the optimization hasn't converged yet.\n",
      "  warnings.warn(\n"
     ]
    },
    {
     "name": "stdout",
     "output_type": "stream",
     "text": [
      "\n",
      "=== Modelo: MLPClassifier === con: 15 de features\n"
     ]
    },
    {
     "name": "stderr",
     "output_type": "stream",
     "text": [
      "/Users/angelgovea/Library/CloudStorage/OneDrive-InstitutoTecnologicoydeEstudiosSuperioresdeMonterrey/4to Semestre/Modelacion del Aprendizaje con Inteligencia Artificial/proyecto1/proyecto1/lib/python3.13/site-packages/sklearn/neural_network/_multilayer_perceptron.py:691: ConvergenceWarning: Stochastic Optimizer: Maximum iterations (500) reached and the optimization hasn't converged yet.\n",
      "  warnings.warn(\n",
      "/Users/angelgovea/Library/CloudStorage/OneDrive-InstitutoTecnologicoydeEstudiosSuperioresdeMonterrey/4to Semestre/Modelacion del Aprendizaje con Inteligencia Artificial/proyecto1/proyecto1/lib/python3.13/site-packages/sklearn/neural_network/_multilayer_perceptron.py:691: ConvergenceWarning: Stochastic Optimizer: Maximum iterations (500) reached and the optimization hasn't converged yet.\n",
      "  warnings.warn(\n",
      "/Users/angelgovea/Library/CloudStorage/OneDrive-InstitutoTecnologicoydeEstudiosSuperioresdeMonterrey/4to Semestre/Modelacion del Aprendizaje con Inteligencia Artificial/proyecto1/proyecto1/lib/python3.13/site-packages/sklearn/neural_network/_multilayer_perceptron.py:691: ConvergenceWarning: Stochastic Optimizer: Maximum iterations (500) reached and the optimization hasn't converged yet.\n",
      "  warnings.warn(\n",
      "/Users/angelgovea/Library/CloudStorage/OneDrive-InstitutoTecnologicoydeEstudiosSuperioresdeMonterrey/4to Semestre/Modelacion del Aprendizaje con Inteligencia Artificial/proyecto1/proyecto1/lib/python3.13/site-packages/sklearn/neural_network/_multilayer_perceptron.py:691: ConvergenceWarning: Stochastic Optimizer: Maximum iterations (500) reached and the optimization hasn't converged yet.\n",
      "  warnings.warn(\n"
     ]
    },
    {
     "name": "stdout",
     "output_type": "stream",
     "text": [
      "\n",
      "=== Modelo: MLPClassifier === con: 20 de features\n"
     ]
    },
    {
     "name": "stderr",
     "output_type": "stream",
     "text": [
      "/Users/angelgovea/Library/CloudStorage/OneDrive-InstitutoTecnologicoydeEstudiosSuperioresdeMonterrey/4to Semestre/Modelacion del Aprendizaje con Inteligencia Artificial/proyecto1/proyecto1/lib/python3.13/site-packages/sklearn/neural_network/_multilayer_perceptron.py:691: ConvergenceWarning: Stochastic Optimizer: Maximum iterations (500) reached and the optimization hasn't converged yet.\n",
      "  warnings.warn(\n",
      "/Users/angelgovea/Library/CloudStorage/OneDrive-InstitutoTecnologicoydeEstudiosSuperioresdeMonterrey/4to Semestre/Modelacion del Aprendizaje con Inteligencia Artificial/proyecto1/proyecto1/lib/python3.13/site-packages/sklearn/neural_network/_multilayer_perceptron.py:691: ConvergenceWarning: Stochastic Optimizer: Maximum iterations (500) reached and the optimization hasn't converged yet.\n",
      "  warnings.warn(\n",
      "/Users/angelgovea/Library/CloudStorage/OneDrive-InstitutoTecnologicoydeEstudiosSuperioresdeMonterrey/4to Semestre/Modelacion del Aprendizaje con Inteligencia Artificial/proyecto1/proyecto1/lib/python3.13/site-packages/sklearn/neural_network/_multilayer_perceptron.py:691: ConvergenceWarning: Stochastic Optimizer: Maximum iterations (500) reached and the optimization hasn't converged yet.\n",
      "  warnings.warn(\n"
     ]
    },
    {
     "name": "stdout",
     "output_type": "stream",
     "text": [
      "\n",
      "=== Modelo: MLPClassifier === con: 25 de features\n",
      "\n",
      "=== Modelo: MLPClassifier === con: 30 de features\n"
     ]
    },
    {
     "name": "stderr",
     "output_type": "stream",
     "text": [
      "/Users/angelgovea/Library/CloudStorage/OneDrive-InstitutoTecnologicoydeEstudiosSuperioresdeMonterrey/4to Semestre/Modelacion del Aprendizaje con Inteligencia Artificial/proyecto1/proyecto1/lib/python3.13/site-packages/sklearn/neural_network/_multilayer_perceptron.py:691: ConvergenceWarning: Stochastic Optimizer: Maximum iterations (500) reached and the optimization hasn't converged yet.\n",
      "  warnings.warn(\n",
      "/Users/angelgovea/Library/CloudStorage/OneDrive-InstitutoTecnologicoydeEstudiosSuperioresdeMonterrey/4to Semestre/Modelacion del Aprendizaje con Inteligencia Artificial/proyecto1/proyecto1/lib/python3.13/site-packages/sklearn/neural_network/_multilayer_perceptron.py:691: ConvergenceWarning: Stochastic Optimizer: Maximum iterations (500) reached and the optimization hasn't converged yet.\n",
      "  warnings.warn(\n",
      "/Users/angelgovea/Library/CloudStorage/OneDrive-InstitutoTecnologicoydeEstudiosSuperioresdeMonterrey/4to Semestre/Modelacion del Aprendizaje con Inteligencia Artificial/proyecto1/proyecto1/lib/python3.13/site-packages/sklearn/neural_network/_multilayer_perceptron.py:691: ConvergenceWarning: Stochastic Optimizer: Maximum iterations (500) reached and the optimization hasn't converged yet.\n",
      "  warnings.warn(\n",
      "/Users/angelgovea/Library/CloudStorage/OneDrive-InstitutoTecnologicoydeEstudiosSuperioresdeMonterrey/4to Semestre/Modelacion del Aprendizaje con Inteligencia Artificial/proyecto1/proyecto1/lib/python3.13/site-packages/sklearn/neural_network/_multilayer_perceptron.py:691: ConvergenceWarning: Stochastic Optimizer: Maximum iterations (500) reached and the optimization hasn't converged yet.\n",
      "  warnings.warn(\n",
      "/Users/angelgovea/Library/CloudStorage/OneDrive-InstitutoTecnologicoydeEstudiosSuperioresdeMonterrey/4to Semestre/Modelacion del Aprendizaje con Inteligencia Artificial/proyecto1/proyecto1/lib/python3.13/site-packages/sklearn/neural_network/_multilayer_perceptron.py:691: ConvergenceWarning: Stochastic Optimizer: Maximum iterations (500) reached and the optimization hasn't converged yet.\n",
      "  warnings.warn(\n"
     ]
    },
    {
     "name": "stdout",
     "output_type": "stream",
     "text": [
      "\n",
      "=== Modelo: MLPClassifier === con: 35 de features\n"
     ]
    },
    {
     "name": "stderr",
     "output_type": "stream",
     "text": [
      "/Users/angelgovea/Library/CloudStorage/OneDrive-InstitutoTecnologicoydeEstudiosSuperioresdeMonterrey/4to Semestre/Modelacion del Aprendizaje con Inteligencia Artificial/proyecto1/proyecto1/lib/python3.13/site-packages/sklearn/neural_network/_multilayer_perceptron.py:691: ConvergenceWarning: Stochastic Optimizer: Maximum iterations (500) reached and the optimization hasn't converged yet.\n",
      "  warnings.warn(\n",
      "/Users/angelgovea/Library/CloudStorage/OneDrive-InstitutoTecnologicoydeEstudiosSuperioresdeMonterrey/4to Semestre/Modelacion del Aprendizaje con Inteligencia Artificial/proyecto1/proyecto1/lib/python3.13/site-packages/sklearn/neural_network/_multilayer_perceptron.py:691: ConvergenceWarning: Stochastic Optimizer: Maximum iterations (500) reached and the optimization hasn't converged yet.\n",
      "  warnings.warn(\n"
     ]
    },
    {
     "name": "stdout",
     "output_type": "stream",
     "text": [
      "\n",
      "=== Modelo: MLPClassifier === con: 39 de features\n"
     ]
    }
   ],
   "source": [
    "# =========================\n",
    "# MLP con diferentes tamaños de capas ocultas\n",
    "# =========================\n",
    "mlp_accuracies_kbest = []\n",
    "k_values_kbest = [5, 10, 15, 20, 25, 30, 35, 39]\n",
    "\n",
    "\n",
    "\n",
    "for k in k_values_kbest:\n",
    "\n",
    "\n",
    "    cv_y_test = []\n",
    "    cv_y_pred = []\n",
    "    for train_index, test_index in kf.split(x, y):\n",
    "# Training phase\n",
    "        x_train = x[train_index, :]\n",
    "        y_train = y[train_index]\n",
    "        clf_i = MLPClassifier(hidden_layer_sizes=(50, ), max_iter=500, random_state=42)\n",
    "        fselection_cv = SelectKBest(score_func=f_classif, k=k)\n",
    "        fselection_cv.fit(x_train, y_train)\n",
    "        x_train = fselection_cv.transform(x_train)\n",
    "        clf_i.fit(x_train, y_train)\n",
    "# Test phase\n",
    "        x_test = fselection_cv.transform(x[test_index, :])\n",
    "        y_test = y[test_index]\n",
    "        y_pred = clf_i.predict(x_test)\n",
    "        cv_y_test.append(y_test)\n",
    "        cv_y_pred.append(y_pred)\n",
    "    print(f\"\\n=== Modelo: MLPClassifier ===\", f'con: {k} de features')\n",
    "    report = classification_report(np.concatenate(cv_y_test), np.concatenate(cv_y_pred), output_dict=True)\n",
    "    accuracy = report['accuracy']\n",
    "    mlp_accuracies_kbest.append(accuracy)"
   ]
  },
  {
   "cell_type": "code",
   "execution_count": 68,
   "metadata": {
    "colab": {
     "base_uri": "https://localhost:8080/"
    },
    "id": "PTSin5Tjp7XX",
    "outputId": "f52ed370-9e9d-48c0-a8c7-cde45d3bd980"
   },
   "outputs": [
    {
     "name": "stdout",
     "output_type": "stream",
     "text": [
      "Mejor k de MLP: 30 con accuracy de: 0.9867\n"
     ]
    }
   ],
   "source": [
    "best_k_index = np.argmax(mlp_accuracies_kbest)\n",
    "best_k = k_values_kbest[best_k_index]\n",
    "best_accuracy = mlp_accuracies_kbest[best_k_index]\n",
    "\n",
    "print(f\"Mejor k de MLP: {best_k} con accuracy de: {best_accuracy:.4f}\")"
   ]
  },
  {
   "cell_type": "code",
   "execution_count": 75,
   "metadata": {
    "colab": {
     "base_uri": "https://localhost:8080/"
    },
    "id": "2EPl2qh3qPGa",
    "outputId": "d767263e-6b6f-4002-f3fd-439f02f253ea"
   },
   "outputs": [
    {
     "name": "stdout",
     "output_type": "stream",
     "text": [
      "Nombres de las mejores características para MLPClassifier: ['1', '2', '8', '9', '57', '63', '67', '68', '70', '73']\n"
     ]
    }
   ],
   "source": [
    "selector = SelectKBest(score_func=f_classif, k=10)\n",
    "selector.fit(x, y)\n",
    "\n",
    "# Obtener índices de las características seleccionadas\n",
    "selected_indices = selector.get_support(indices=True)\n",
    "\n",
    "\n",
    "feature_names = df.columns[1:]  # porque la columna 0 es la etiqueta\n",
    "selected_features = feature_names[selected_indices]\n",
    "\n",
    "\n",
    "print(\"Nombres de las mejores características para MLPClassifier:\", selected_features.tolist())"
   ]
  },
  {
   "cell_type": "code",
   "execution_count": 70,
   "metadata": {
    "colab": {
     "base_uri": "https://localhost:8080/"
    },
    "id": "VbWMHxwOp9b8",
    "outputId": "02b6cacc-2e43-4d23-8246-763752d7c9d5"
   },
   "outputs": [
    {
     "name": "stdout",
     "output_type": "stream",
     "text": [
      "Mejor k de SVC: 30 con accuracy de: 0.9967\n"
     ]
    }
   ],
   "source": [
    "best_k_index = np.argmax(svc_kbest_accuracies)\n",
    "best_k = k_values_kbest[best_k_index]\n",
    "best_accuracy = svc_kbest_accuracies[best_k_index]\n",
    "\n",
    "print(f\"Mejor k de SVC: {best_k} con accuracy de: {best_accuracy:.4f}\")\n"
   ]
  },
  {
   "cell_type": "markdown",
   "metadata": {
    "id": "U94G2qmPqiyU"
   },
   "source": [
    "En el caso de SVC radial, su mejor rendimiento lo obtuvo con todas las características disponibles"
   ]
  },
  {
   "cell_type": "code",
   "execution_count": 71,
   "metadata": {
    "colab": {
     "base_uri": "https://localhost:8080/",
     "height": 465
    },
    "id": "dJIQBh1EltPq",
    "outputId": "1ae20408-aa7c-4bf4-c4e5-a18ab52d576d"
   },
   "outputs": [
    {
     "data": {
      "image/png": "[encoded data removed]",
      "text/plain": [
       "<Figure size 1200x500 with 2 Axes>"
      ]
     },
     "metadata": {},
     "output_type": "display_data"
    }
   ],
   "source": [
    "# Graficar resultados\n",
    "plt.figure(figsize=(12, 5))\n",
    "\n",
    "# Gráfica para SVM\n",
    "plt.subplot(1, 2, 1)\n",
    "plt.plot(k_values_kbest, svc_kbest_accuracies, marker='o')\n",
    "plt.title('SVM (RBF) - Rendimiento vs K features')\n",
    "plt.xlabel('Features seleccionadas')\n",
    "plt.ylabel('Accuracy')\n",
    "plt.grid(True)\n",
    "\n",
    "# Gráfica para MLP\n",
    "plt.subplot(1, 2, 2)\n",
    "\n",
    "plt.plot(k_values_kbest, mlp_accuracies_kbest, marker='o')\n",
    "plt.title('MLP - Rendimiento vs K features')\n",
    "plt.xlabel('Features seleccionadas')\n",
    "plt.ylabel('Accuracy')\n",
    "plt.grid(True)\n",
    "\n",
    "plt.tight_layout()\n",
    "plt.show()"
   ]
  },
  {
   "cell_type": "markdown",
   "metadata": {
    "id": "VaJir6ICo87Q"
   },
   "source": [
    "Con estas gráficas se demuestra que no necesitamos de todas las features para poder tener las mejores predicciones y a la vez optimizamos recursos, aunque el mejor desempeño de SVC fue en 39, podemos utilizar 35 sin ver una gran penalización, en el caso de MLPClassifier su mejore desempeño estuvo en 30 features."
   ]
  },
  {
   "cell_type": "markdown",
   "metadata": {},
   "source": [
    "***PipeLine Optimizado SVM***\n"
   ]
  },
  {
   "cell_type": "code",
   "execution_count": 74,
   "metadata": {},
   "outputs": [
    {
     "name": "stderr",
     "output_type": "stream",
     "text": [
      "/Users/angelgovea/Library/CloudStorage/OneDrive-InstitutoTecnologicoydeEstudiosSuperioresdeMonterrey/4to Semestre/Modelacion del Aprendizaje con Inteligencia Artificial/proyecto1/proyecto1/lib/python3.13/site-packages/sklearn/neural_network/_multilayer_perceptron.py:691: ConvergenceWarning: Stochastic Optimizer: Maximum iterations (500) reached and the optimization hasn't converged yet.\n",
      "  warnings.warn(\n"
     ]
    },
    {
     "name": "stdout",
     "output_type": "stream",
     "text": [
      "Accuracy por fold: [1.         0.98333333 0.975      0.96666667 0.99166667]\n",
      "Accuracy promedio: 0.9833 ± 0.0118\n"
     ]
    },
    {
     "name": "stderr",
     "output_type": "stream",
     "text": [
      "/Users/angelgovea/Library/CloudStorage/OneDrive-InstitutoTecnologicoydeEstudiosSuperioresdeMonterrey/4to Semestre/Modelacion del Aprendizaje con Inteligencia Artificial/proyecto1/proyecto1/lib/python3.13/site-packages/sklearn/neural_network/_multilayer_perceptron.py:691: ConvergenceWarning: Stochastic Optimizer: Maximum iterations (500) reached and the optimization hasn't converged yet.\n",
      "  warnings.warn(\n"
     ]
    }
   ],
   "source": [
    "# Definir pipeline\n",
    "pipeline_mlp = Pipeline([\n",
    "    (\"scaler\", StandardScaler()),\n",
    "    (\"selector\", SelectKBest(score_func=f_classif, k=10)),\n",
    "    (\"classifier\", MLPClassifier(hidden_layer_sizes=(50,), max_iter=500, random_state=42))\n",
    "])\n",
    "\n",
    "# Validación cruzada\n",
    "cv = StratifiedKFold(n_splits=5, shuffle=True, random_state=42)\n",
    "scores = cross_val_score(pipeline_mlp, x, y, cv=cv, scoring='accuracy')\n",
    "\n",
    "# Resultados\n",
    "print(\"Accuracy por fold:\", scores)\n",
    "print(f\"Accuracy promedio: {scores.mean():.4f} ± {scores.std():.4f}\")"
   ]
  },
  {
   "cell_type": "code",
   "execution_count": null,
   "metadata": {},
   "outputs": [],
   "source": []
  }
 ],
 "metadata": {
  "colab": {
   "provenance": []
  },
  "kernelspec": {
   "display_name": "proyecto1",
   "language": "python",
   "name": "python3"
  },
  "language_info": {
   "codemirror_mode": {
    "name": "ipython",
    "version": 3
   },
   "file_extension": ".py",
   "mimetype": "text/x-python",
   "name": "python",
   "nbconvert_exporter": "python",
   "pygments_lexer": "ipython3",
   "version": "3.13.2"
  }
 },
 "nbformat": 4,
 "nbformat_minor": 0
}
